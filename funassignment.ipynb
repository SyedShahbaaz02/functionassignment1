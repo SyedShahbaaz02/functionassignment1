{
 "cells": [
  {
   "cell_type": "code",
   "execution_count": 3,
   "id": "5a92b52d-87d1-4dcc-b5b1-93f687eedc5d",
   "metadata": {},
   "outputs": [],
   "source": [
    "#Q1. Which keyword is used to create a function? Create a function to return a list of odd numbers in the\n",
    "#range of 1 to 25.\n",
    "#A) def "
   ]
  },
  {
   "cell_type": "code",
   "execution_count": 1,
   "id": "095e8167-53af-413b-be55-c2ac9a4a033d",
   "metadata": {},
   "outputs": [],
   "source": [
    "def oddnum():\n",
    "    for i in range(0,10):\n",
    "        if i %2!=0:\n",
    "            print(i)"
   ]
  },
  {
   "cell_type": "code",
   "execution_count": 2,
   "id": "8d32adab-7724-44d7-b654-7024ab28a9d6",
   "metadata": {},
   "outputs": [
    {
     "name": "stdout",
     "output_type": "stream",
     "text": [
      "1\n",
      "3\n",
      "5\n",
      "7\n",
      "9\n"
     ]
    }
   ],
   "source": [
    "oddnum()"
   ]
  },
  {
   "cell_type": "code",
   "execution_count": 17,
   "id": "39f6e690-e58f-4ba4-89ce-a5a545758c40",
   "metadata": {},
   "outputs": [
    {
     "name": "stdout",
     "output_type": "stream",
     "text": [
      "my best friend is shahbaaz\n",
      "my last name is  syed\n"
     ]
    }
   ],
   "source": [
    "#Q2. Why *args and **kwargs is used in some functions? Create a function each for *args and **kwargs\n",
    "#to demonstrate their use.\n",
    "# args stands for arbirtary function and it ia used when we don't know hiw many arguments should be passed and in this way this function will receive tuple of arguments\n",
    "def arbirtaryf(*friends):\n",
    "    print('my best friend is'  ,friends[2])\n",
    "arbirtaryf('syed','shoaib','shahbaaz')\n",
    "    \n",
    "    \n",
    "#kwargs takes dictionary of arguments and this function will receive dictionary arguments\n",
    "def keyvalueargs(**kwargs):\n",
    "    print('my last name is ' ,kwargs['lname'])\n",
    "keyvalueargs(fname='shahbaaz', lname='syed')"
   ]
  },
  {
   "cell_type": "code",
   "execution_count": 34,
   "id": "8c0f57d0-2280-4c5b-a0ae-669ac418c009",
   "metadata": {},
   "outputs": [
    {
     "name": "stdout",
     "output_type": "stream",
     "text": [
      "2\n",
      "4\n",
      "6\n",
      "8\n",
      "10\n"
     ]
    }
   ],
   "source": [
    "#Q3. What is an iterator in python? Name the method used to initialise the iterator object and the method\n",
    "#used for iteration. Use these methods to print the first five elements of the given list [2, 4, 6, 8, 10, 12, 14,\n",
    "#16, 18, 20].\n",
    "#A)An iterator is an object that contains a countable number of values.\n",
    "#__iter__() method is used to initiLze the iterator object \n",
    "# __next__() method is used for iteration\n",
    "my_list=[2, 4, 6, 8, 10, 12, 14,16, 18, 20]\n",
    "myitr=iter(my_list)\n",
    "print(next(myitr))\n",
    "print(next(myitr))\n",
    "print(next(myitr))\n",
    "print(next(myitr))\n",
    "print(next(myitr))"
   ]
  },
  {
   "cell_type": "code",
   "execution_count": null,
   "id": "9ac22c05-8f1c-4238-b24d-b4e8cc79ea42",
   "metadata": {},
   "outputs": [],
   "source": []
  },
  {
   "cell_type": "code",
   "execution_count": 38,
   "id": "11ddf9b9-a16a-4296-98c1-58d067d7e377",
   "metadata": {},
   "outputs": [
    {
     "data": {
      "text/plain": [
       "['p', 'w', 's', 'k', 'i', 'l', 'l', 's']"
      ]
     },
     "execution_count": 38,
     "metadata": {},
     "output_type": "execute_result"
    }
   ],
   "source": [
    "#Write a List Comprehension to iterate through the given string: ‘pwskills’.\n",
    "#Expected output: ['p', 'w', 's', 'k', 'i', 'l', 'l', 's']\n",
    "a='pwskills'\n",
    "newa=[x for x in a ]\n",
    "newa"
   ]
  },
  {
   "cell_type": "code",
   "execution_count": 45,
   "id": "b5a7c957-7656-4bff-b759-72467cadd3e0",
   "metadata": {},
   "outputs": [
    {
     "name": "stdout",
     "output_type": "stream",
     "text": [
      "1\n",
      "[1]\n"
     ]
    }
   ],
   "source": [
    "#Q4. What is a generator function in python? Why yield keyword is used? Give an example of a generator\n",
    "#function.\n",
    "\n",
    "\n",
    "#We should use yield when we want to iterate over a sequence, \n",
    "#but don’t want to store the entire sequence in memory. Yield is used in Python generators. A generator function is defined just like a normal function, but whenever it needs to generate a value, it does so with the yield keyword rather than return.\n",
    "#If the body of a def contains yield, the function automatically becomes a generator function. \n",
    "\n",
    "\n",
    "def gen():\n",
    "    yield 1\n",
    "gen()\n",
    "for value in gen():\n",
    "    print(value)\n",
    "    #or using list comprehension\n",
    "genfunc=[x for x in gen()]\n",
    "print(genfunc)"
   ]
  },
  {
   "cell_type": "code",
   "execution_count": 48,
   "id": "7fb1f0e0-35d5-4868-83ae-3b491e73ff73",
   "metadata": {},
   "outputs": [],
   "source": [
    "\n",
    "#Q9. Write a code to print odd numbers from 1 to 100 using list comprehension.\n",
    "num=[x for x in range(1,1001)]"
   ]
  },
  {
   "cell_type": "code",
   "execution_count": 5,
   "id": "02827abb-85f9-49c1-878e-f35109d3f00a",
   "metadata": {},
   "outputs": [
    {
     "name": "stdin",
     "output_type": "stream",
     "text": [
      "enter the number 123\n"
     ]
    },
    {
     "name": "stdout",
     "output_type": "stream",
     "text": [
      "it is not a palindrome number\n"
     ]
    }
   ],
   "source": [
    "#Q8. Write a python program to check whether a given number is Palindrome or not using a while loop.\n",
    "i=int(input('enter the number'))\n",
    "x=i\n",
    "rev=0\n",
    "while i>0:\n",
    "    rev=(rev*10)+i%10\n",
    "    i=i//10\n",
    "if rev==x:\n",
    "    print('palindrome number')\n",
    "else:\n",
    "    print('it is not a palindrome number')"
   ]
  },
  {
   "cell_type": "code",
   "execution_count": 30,
   "id": "09647f89-175e-4b15-b709-1dacc02abeba",
   "metadata": {},
   "outputs": [
    {
     "name": "stdout",
     "output_type": "stream",
     "text": [
      "0\n",
      "1\n",
      "1\n",
      "2\n",
      "3\n",
      "5\n",
      "8\n",
      "13\n",
      "21\n",
      "34\n"
     ]
    }
   ],
   "source": [
    "#Write a python program to print the first 10 Fibonacci numbers using a while loop.\n",
    "a=0\n",
    "b=1\n",
    "i=0\n",
    "n=10\n",
    "while i<n:\n",
    "    for x in range(n):\n",
    "        print(a)\n",
    "        a,b=b,a+b\n",
    "        i=i+1\n"
   ]
  },
  {
   "cell_type": "code",
   "execution_count": null,
   "id": "e1c3e058-af8c-4db0-a6f4-6029ba3c759a",
   "metadata": {},
   "outputs": [],
   "source": []
  },
  {
   "cell_type": "code",
   "execution_count": null,
   "id": "eddabc44-3444-4e96-a0cd-12225cdf79b7",
   "metadata": {},
   "outputs": [],
   "source": []
  },
  {
   "cell_type": "code",
   "execution_count": 1,
   "id": "ed025126-5172-4405-8262-f77d4a82594e",
   "metadata": {},
   "outputs": [
    {
     "name": "stdout",
     "output_type": "stream",
     "text": [
      "2\n",
      "3\n",
      "5\n",
      "7\n",
      "11\n",
      "13\n",
      "17\n",
      "19\n",
      "23\n",
      "29\n",
      "31\n",
      "37\n",
      "41\n",
      "43\n",
      "47\n",
      "53\n",
      "59\n",
      "61\n",
      "67\n",
      "71\n"
     ]
    }
   ],
   "source": [
    "def is_prime(num):\n",
    "    if num <= 1:\n",
    "        return False\n",
    "    if num <= 3:\n",
    "        return True\n",
    "    if num % 2 == 0 or num % 3 == 0:\n",
    "        return False\n",
    "    i = 5\n",
    "    while i * i <= num:\n",
    "        if num % i == 0 or num % (i + 2) == 0:\n",
    "            return False\n",
    "        i += 6\n",
    "    return True\n",
    "\n",
    "def prime_generator(limit):\n",
    "    num = 2\n",
    "    while num < limit:\n",
    "        if is_prime(num):\n",
    "            yield num\n",
    "        num += 1\n",
    "\n",
    "prime_gen = prime_generator(1000)\n",
    "for _ in range(20):\n",
    "    print(next(prime_gen))\n"
   ]
  },
  {
   "cell_type": "code",
   "execution_count": null,
   "id": "28fa1597-8937-4ca7-a2a2-9210efb60a54",
   "metadata": {},
   "outputs": [],
   "source": []
  }
 ],
 "metadata": {
  "kernelspec": {
   "display_name": "Python 3 (ipykernel)",
   "language": "python",
   "name": "python3"
  },
  "language_info": {
   "codemirror_mode": {
    "name": "ipython",
    "version": 3
   },
   "file_extension": ".py",
   "mimetype": "text/x-python",
   "name": "python",
   "nbconvert_exporter": "python",
   "pygments_lexer": "ipython3",
   "version": "3.10.8"
  }
 },
 "nbformat": 4,
 "nbformat_minor": 5
}
